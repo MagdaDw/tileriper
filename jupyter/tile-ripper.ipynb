{
 "cells": [
  {
   "cell_type": "markdown",
   "metadata": {},
   "source": [
    "## How to use tile ripper\n",
    "\n",
    "#### 1. Open openstreet map https://www.openstreetmap.org/#map=5/45.337/21.445\n",
    "\n",
    "#### 2. Navigate to a location where you may find railroads\n",
    "\n",
    "#### 3. Zoom in all the way (level 19)\n",
    "\n",
    "#### 4. Open developer tools in browser (firefox) and start monitoring the network\n",
    "\n",
    "#### 5. Click refres so that browser pulls tiles from server\n",
    "\n",
    "#### 6. Grab one of the tiles and check the url. It should look something like this \n",
    "\n",
    "https://a.tile.openstreetmap.org/19/292607/179395.png\n",
    "\n",
    "#### 7. The first number is long (x) and the second is lat (y)\n",
    "\n",
    "#### 8. Pass those values to the constructor method \n",
    "\n",
    "```tr = TileRipper(lat, lon)```\n",
    "\n",
    "#### 9. Run the method which pull tailes. \n",
    "\n",
    "Parameters  lat_s, lat_n, lon_w, lon_e are there to allow pass number of tailes to south, north west and east from given tile.\n"
   ]
  },
  {
   "cell_type": "code",
   "execution_count": null,
   "metadata": {},
   "outputs": [],
   "source": [
    "from urllib.request import urlopen\n",
    "import os\n",
    "from ipywidgets import FloatProgress\n",
    "from IPython.display import Image, display\n",
    "from ipywidgets import interact, interactive, fixed, interact_manual\n",
    "import ipywidgets as widgets\n",
    "from IPython.display import clear_output"
   ]
  },
  {
   "cell_type": "code",
   "execution_count": null,
   "metadata": {},
   "outputs": [],
   "source": [
    "THE_URL = \"https://c.tile.openstreetmap.org/19/\"\n",
    "DIRECTORY = \"tile-data/\"\n",
    "RAILROAD = 'railroad/'\n",
    "OTHER = 'other/'\n",
    "\n",
    "out = widgets.Output()\n",
    "\n",
    "def on_railroad_button_clicked(b):\n",
    "    files=os.listdir(DIRECTORY)\n",
    "    if len(files) == 0:\n",
    "        return\n",
    "    the_file = files[0]\n",
    "    os.rename(DIRECTORY + the_file, RAILROAD + the_file)\n",
    "    with out:\n",
    "        clear_output()\n",
    "        if len(files) > 1:\n",
    "            display(Image(DIRECTORY+files[1]))\n",
    "\n",
    "def on_other_button_clicked(b):\n",
    "    files=os.listdir(DIRECTORY)\n",
    "    if len(files) == 0:\n",
    "        return\n",
    "    the_file = files[0]\n",
    "    os.rename(DIRECTORY + the_file, OTHER + the_file)\n",
    "    with out:\n",
    "        clear_output()\n",
    "        if len(files) > 1:\n",
    "            display(Image(DIRECTORY+files[1]))\n",
    "        \n",
    "        \n",
    "class TileRipper:    \n",
    "    def __init__(self, lat, lon):\n",
    "        self.THE_URL = THE_URL\n",
    "        self.DIRECTORY = DIRECTORY\n",
    "        self.RAILROAD = RAILROAD\n",
    "        self.OTHER = OTHER\n",
    "        self.lat = lat\n",
    "        self.lon = lon\n",
    "        self.fpb = FloatProgress(min=0, max=100)\n",
    "        display(self.fpb)\n",
    "        if not os.path.exists(self.DIRECTORY):\n",
    "            os.makedirs(self.DIRECTORY)\n",
    "        if not os.path.exists(self.RAILROAD):\n",
    "            os.makedirs(self.RAILROAD)\n",
    "        if not os.path.exists(self.OTHER):\n",
    "            os.makedirs(self.OTHER)\n",
    "        \n",
    "\n",
    "    def download_tiles(self, lat_s, lat_n, lon_w, lon_e):\n",
    "        lat = self.lat\n",
    "        lon = self.lon\n",
    "        self.fpb.max = (lat_s + lat_n) * (lon_w + lon_e)\n",
    "        \n",
    "        for x in range(lon-lon_w, lon+lon_e):\n",
    "            for y in range(lat-lat_s, lat+lat_n):\n",
    "                self.fpb.value+=1\n",
    "                resource = urlopen(self.THE_URL + str(x) + \"/\" + str(y) + \".png\")\n",
    "                output = open(self.DIRECTORY + \"/\" + str(x) + \"_\" + str(y) + \".png\", \"wb\")\n",
    "                output.write(resource.read())\n",
    "                output.close()\n",
    "                \n",
    "    def assign_tiles_labels(self):\n",
    "        files=os.listdir(self.DIRECTORY)\n",
    "        railroad_button = widgets.Button(description=\"Rail\")\n",
    "        railroad_button.on_click(on_railroad_button_clicked)\n",
    "        other_button = widgets.Button(description=\"Other\")\n",
    "        other_button.on_click(on_other_button_clicked)\n",
    "        display(railroad_button)\n",
    "        display(other_button)\n",
    "        files=os.listdir(self.DIRECTORY)\n",
    "        if len(files) == 0:\n",
    "            return\n",
    "        the_file = files[0]\n",
    "        with out:\n",
    "            display(Image(self.DIRECTORY+the_file))\n",
    "        display(out)\n",
    "        \n",
    "        "
   ]
  },
  {
   "cell_type": "code",
   "execution_count": null,
   "metadata": {},
   "outputs": [],
   "source": [
    "lon = 448712\n",
    "lat = 203748"
   ]
  },
  {
   "cell_type": "code",
   "execution_count": null,
   "metadata": {},
   "outputs": [],
   "source": [
    "tr = TileRipper(lat, lon)\n",
    "tr.download_tiles(10,10,5,5)"
   ]
  },
  {
   "cell_type": "code",
   "execution_count": null,
   "metadata": {},
   "outputs": [],
   "source": [
    "tr.assign_tiles_labels()\n"
   ]
  },
  {
   "cell_type": "code",
   "execution_count": null,
   "metadata": {},
   "outputs": [],
   "source": []
  },
  {
   "cell_type": "code",
   "execution_count": null,
   "metadata": {},
   "outputs": [],
   "source": []
  },
  {
   "cell_type": "code",
   "execution_count": null,
   "metadata": {},
   "outputs": [],
   "source": []
  },
  {
   "cell_type": "code",
   "execution_count": null,
   "metadata": {},
   "outputs": [],
   "source": []
  },
  {
   "cell_type": "code",
   "execution_count": null,
   "metadata": {},
   "outputs": [],
   "source": []
  }
 ],
 "metadata": {
  "kernelspec": {
   "display_name": "Python 3",
   "language": "python",
   "name": "python3"
  },
  "language_info": {
   "codemirror_mode": {
    "name": "ipython",
    "version": 3
   },
   "file_extension": ".py",
   "mimetype": "text/x-python",
   "name": "python",
   "nbconvert_exporter": "python",
   "pygments_lexer": "ipython3",
   "version": "3.7.3"
  }
 },
 "nbformat": 4,
 "nbformat_minor": 2
}
